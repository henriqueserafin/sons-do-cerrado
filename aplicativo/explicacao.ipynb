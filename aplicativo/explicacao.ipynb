{
 "cells": [
  {
   "cell_type": "markdown",
   "metadata": {},
   "source": [
    "# Explicação do seguinte snipet de código"
   ]
  },
  {
   "cell_type": "markdown",
   "metadata": {},
   "source": [
    "```python\n",
    "if ear < ear_limiar:\n",
    "    t_inicial = time.time() if dormindo == 0 else t_inicial\n",
    "    dormindo = 1\n",
    "if dormindo == 1 and ear >= ear_limiar:\n",
    "    dormindo = 0\n",
    "t_final = time.time()\n",
    "tempo = (t_final - t_inicial) if dormindo == 1 else 0.0\n",
    "```"
   ]
  },
  {
   "cell_type": "markdown",
   "metadata": {},
   "source": [
    "## Linha 1 a 3\n",
    "```python\n",
    "if ear < ear_limiar:\n",
    "    t_inicial = time.time() if dormindo == 0 else t_inicial\n",
    "    dormindo = 1\n",
    "```\n",
    "#### linha 1) Aqui ocorre um vaerificação se EAR atual é menor que o limite que foi definido para considerar os olhos abertos, em resumo se o valor do EAR for menor que ear_limiar então os olhos estão fechados.\n",
    "\n",
    "#### linha 2) cria uma variavel chamada t_inicial e atribui para ela o tempo atual para registrar o momento em que \"dormir\" começa ou seja, caso dormir não seja iniciado, ou seja, caso dormir seja 1 t_inicial não é alterado\n",
    "\n",
    "#### linha 3) define dormindo como 1. indicando que pelo ear estar mis baxo que o limiar a pessoa está de olho fechado, ou dormindo\n"
   ]
  },
  {
   "cell_type": "markdown",
   "metadata": {},
   "source": [
    "## Linha 4 e 5\n",
    "```python\n",
    "if dormindo == 1 and ear >= ear_limiar:\n",
    "    dormindo = 0\n",
    "```\n",
    "#### linha 4) Essa linha define que caso dormindo esteja em estado ativado e o ear seja maior ou igual ao limiar (significando que agora ele está de olhos abertos) vai executar a próxima linha\n",
    "#### linha 5) Essa linha define que dormindo vai voltar a ser desativado"
   ]
  },
  {
   "cell_type": "markdown",
   "metadata": {},
   "source": [
    "## Linha 6 e 7\n",
    "```python\n",
    "t_final = time.time()\n",
    "tempo = (t_final - t_inicial) if dormindo == 1 else 0.0\n",
    "```\n",
    "#### linha 6) Define o t_final como o tempo atual\n",
    "#### linha 7) Define o tempo total (subtraindo o tempo final do tempo inicial) caso dormindo seja igual a 1. caso o contrário o tempo é defindo por zero\n"
   ]
  }
 ],
 "metadata": {
  "language_info": {
   "name": "python"
  }
 },
 "nbformat": 4,
 "nbformat_minor": 2
}
